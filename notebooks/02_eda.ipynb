{
 "cells": [
  {
   "cell_type": "markdown",
   "id": "c3e44269",
   "metadata": {},
   "source": [
    "imports"
   ]
  },
  {
   "cell_type": "code",
   "execution_count": null,
   "id": "cc565e48",
   "metadata": {
    "vscode": {
     "languageId": "plaintext"
    }
   },
   "outputs": [],
   "source": [
    "import pandas as pd\n",
    "import matplotlib.pyplot as plt\n",
    "import seaborn as sns"
   ]
  },
  {
   "cell_type": "markdown",
   "id": "0fa75f4e",
   "metadata": {},
   "source": [
    "load datasets"
   ]
  },
  {
   "cell_type": "code",
   "execution_count": null,
   "id": "a8a62ba2",
   "metadata": {
    "vscode": {
     "languageId": "plaintext"
    }
   },
   "outputs": [],
   "source": [
    "depots = pd.read_csv(\"fmcg-route-optimization/data/raw/depots.csv\")\n",
    "customers = pd.read_csv(\"fmcg-route-optimization/data/raw/customers.csv\")\n",
    "orders = pd.read_csv(\"fmcg-route-optimization/data/raw/orders.csv\")\n",
    "vehicles = pd.read_csv(\"fmcg-route-optimization/data/raw/vehicles.csv\")"
   ]
  },
  {
   "cell_type": "markdown",
   "id": "8068e973",
   "metadata": {},
   "source": [
    "Basic stats"
   ]
  },
  {
   "cell_type": "code",
   "execution_count": null,
   "id": "165ba0c5",
   "metadata": {
    "vscode": {
     "languageId": "plaintext"
    }
   },
   "outputs": [],
   "source": [
    "print(\"Depots:\", len(depots))\n",
    "print(\"Customers:\", len(customers))\n",
    "print(\"Orders:\", len(orders))\n",
    "print(\"Vehicles:\", len(vehicles))\n",
    "\n",
    "print(\"\\nOrders Summary:\")\n",
    "print(orders[[\"demand_units\",\"service_minutes\"]].describe())"
   ]
  },
  {
   "cell_type": "markdown",
   "id": "52339720",
   "metadata": {},
   "source": [
    "Demand distribution"
   ]
  },
  {
   "cell_type": "code",
   "execution_count": null,
   "id": "3102fa7a",
   "metadata": {
    "vscode": {
     "languageId": "plaintext"
    }
   },
   "outputs": [],
   "source": [
    "plt.figure(figsize=(8,5))\n",
    "sns.histplot(orders[\"demand_units\"], bins=30, kde=True)\n",
    "plt.title(\"Order Demand Distribution\")\n",
    "plt.show()"
   ]
  },
  {
   "cell_type": "markdown",
   "id": "d1f8eb3c",
   "metadata": {},
   "source": [
    "Vehicle capacity distribution"
   ]
  },
  {
   "cell_type": "code",
   "execution_count": null,
   "id": "eab2eef1",
   "metadata": {
    "vscode": {
     "languageId": "plaintext"
    }
   },
   "outputs": [],
   "source": [
    "plt.figure(figsize=(8,5))\n",
    "sns.histplot(vehicles[\"capacity_units\"], bins=20, kde=False)\n",
    "plt.title(\"Vehicle Capacity Distribution\")\n",
    "plt.show()"
   ]
  },
  {
   "cell_type": "markdown",
   "id": "6506ca2c",
   "metadata": {},
   "source": [
    "Temp zone breakdown"
   ]
  },
  {
   "cell_type": "code",
   "execution_count": null,
   "id": "46fae5b8",
   "metadata": {
    "vscode": {
     "languageId": "plaintext"
    }
   },
   "outputs": [],
   "source": [
    "sns.countplot(x=\"temp_zone\", data=orders)\n",
    "plt.title(\"Orders by Temperature Zone\")\n",
    "plt.show()"
   ]
  },
  {
   "cell_type": "markdown",
   "id": "6582e95d",
   "metadata": {},
   "source": [
    "Priority breakdown"
   ]
  },
  {
   "cell_type": "code",
   "execution_count": null,
   "id": "6999d82e",
   "metadata": {
    "vscode": {
     "languageId": "plaintext"
    }
   },
   "outputs": [],
   "source": [
    "sns.countplot(x=\"priority\", data=orders)\n",
    "plt.title(\"Orders by Priority Level\")\n",
    "plt.show()"
   ]
  }
 ],
 "metadata": {
  "language_info": {
   "name": "python"
  }
 },
 "nbformat": 4,
 "nbformat_minor": 5
}
