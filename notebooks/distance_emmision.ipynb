{
 "cells": [
  {
   "cell_type": "markdown",
   "id": "e1ab5be5",
   "metadata": {},
   "source": [
    "imports"
   ]
  },
  {
   "cell_type": "code",
   "execution_count": 3,
   "id": "b0d65265",
   "metadata": {},
   "outputs": [
    {
     "ename": "ModuleNotFoundError",
     "evalue": "No module named 'src'",
     "output_type": "error",
     "traceback": [
      "\u001b[31m---------------------------------------------------------------------------\u001b[39m",
      "\u001b[31mModuleNotFoundError\u001b[39m                       Traceback (most recent call last)",
      "\u001b[36mCell\u001b[39m\u001b[36m \u001b[39m\u001b[32mIn[3]\u001b[39m\u001b[32m, line 2\u001b[39m\n\u001b[32m      1\u001b[39m \u001b[38;5;28;01mimport\u001b[39;00m\u001b[38;5;250m \u001b[39m\u001b[34;01mpandas\u001b[39;00m\u001b[38;5;250m \u001b[39m\u001b[38;5;28;01mas\u001b[39;00m\u001b[38;5;250m \u001b[39m\u001b[34;01mpd\u001b[39;00m\n\u001b[32m----> \u001b[39m\u001b[32m2\u001b[39m \u001b[38;5;28;01mfrom\u001b[39;00m\u001b[38;5;250m \u001b[39m\u001b[34;01msrc\u001b[39;00m\u001b[34;01m.\u001b[39;00m\u001b[34;01mdistance_calculator\u001b[39;00m\u001b[38;5;250m \u001b[39m\u001b[38;5;28;01mimport\u001b[39;00m build_distance_matrix\n\u001b[32m      3\u001b[39m \u001b[38;5;28;01mfrom\u001b[39;00m\u001b[38;5;250m \u001b[39m\u001b[34;01msrc\u001b[39;00m\u001b[34;01m.\u001b[39;00m\u001b[34;01memission_calculator\u001b[39;00m\u001b[38;5;250m \u001b[39m\u001b[38;5;28;01mimport\u001b[39;00m compute_emissions\n",
      "\u001b[31mModuleNotFoundError\u001b[39m: No module named 'src'"
     ]
    }
   ],
   "source": [
    "import pandas as pd\n",
    "from src.distance_calculator import build_distance_matrix\n",
    "from src.emission_calculator import compute_emissions"
   ]
  },
  {
   "cell_type": "markdown",
   "id": "6bbfd836",
   "metadata": {},
   "source": [
    "load data"
   ]
  },
  {
   "cell_type": "code",
   "execution_count": null,
   "id": "2968a030",
   "metadata": {},
   "outputs": [],
   "source": [
    "depots = pd.read_csv(\"fmcg-route-optimization/data/sample/depots.csv\")\n",
    "customers = pd.read_csv(\"fmcg-route-optimization/data/sample/customers.csv\")\n",
    "vehicles = pd.read_csv(\"fmcg-route-optimization/data/sample/vehicles.csv\")"
   ]
  },
  {
   "cell_type": "markdown",
   "id": "5b7b8f26",
   "metadata": {},
   "source": [
    "Merge depots + customers into nodes"
   ]
  },
  {
   "cell_type": "code",
   "execution_count": null,
   "id": "5448de09",
   "metadata": {},
   "outputs": [],
   "source": [
    "nodes = pd.concat([\n",
    "    depots.rename(columns={\"depot_id\":\"id\"})[[\"id\",\"lat\",\"lon\"]],\n",
    "    customers.rename(columns={\"customer_id\":\"id\"})[[\"id\",\"lat\",\"lon\"]]\n",
    "], ignore_index=True)"
   ]
  },
  {
   "cell_type": "markdown",
   "id": "4ebd6522",
   "metadata": {},
   "source": [
    "Distance Matrix"
   ]
  },
  {
   "cell_type": "code",
   "execution_count": null,
   "id": "66ba55db",
   "metadata": {},
   "outputs": [],
   "source": [
    "distances = build_distance_matrix(nodes)\n",
    "print(distances.head())"
   ]
  },
  {
   "cell_type": "markdown",
   "id": "3080149a",
   "metadata": {},
   "source": [
    "Emissions for one vehicle"
   ]
  },
  {
   "cell_type": "code",
   "execution_count": null,
   "id": "b2127b94",
   "metadata": {},
   "outputs": [],
   "source": [
    "sample_vehicle = vehicles.iloc[0][\"vehicle_id\"]\n",
    "emissions = compute_emissions(distances, vehicles, sample_vehicle)\n",
    "print(emissions.head())"
   ]
  },
  {
   "cell_type": "markdown",
   "id": "1346eecd",
   "metadata": {},
   "source": [
    "Save for later optimization step"
   ]
  },
  {
   "cell_type": "code",
   "execution_count": null,
   "id": "35161cbe",
   "metadata": {},
   "outputs": [],
   "source": [
    "distances.to_csv(\"fmcg-route-optimization/data/sample/distances.csv\", index=False)\n",
    "emissions.to_csv(\"fmcg-route-optimization/data/sample/emissions_vehicle0.csv\", index=False)"
   ]
  }
 ],
 "metadata": {
  "kernelspec": {
   "display_name": "Python 3",
   "language": "python",
   "name": "python3"
  },
  "language_info": {
   "codemirror_mode": {
    "name": "ipython",
    "version": 3
   },
   "file_extension": ".py",
   "mimetype": "text/x-python",
   "name": "python",
   "nbconvert_exporter": "python",
   "pygments_lexer": "ipython3",
   "version": "3.12.1"
  }
 },
 "nbformat": 4,
 "nbformat_minor": 5
}
