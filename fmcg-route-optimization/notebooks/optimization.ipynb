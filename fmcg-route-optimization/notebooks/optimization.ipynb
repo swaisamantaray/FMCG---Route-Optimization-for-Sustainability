{
 "cells": [
  {
   "cell_type": "code",
   "execution_count": 16,
   "id": "192b6bf6",
   "metadata": {},
   "outputs": [],
   "source": [
    "import sys, os\n",
    "sys.path.append(os.path.abspath(\"../src\"))\n",
    "\n",
    "import pandas as pd\n",
    "from optimization_model import nearest_neighbor_solution"
   ]
  },
  {
   "cell_type": "code",
   "execution_count": 17,
   "id": "7f68bdfc",
   "metadata": {},
   "outputs": [],
   "source": [
    "orders_df = pd.read_csv(\"../data/sample/orders.csv\")\n",
    "vehicles_df = pd.read_csv(\"../data/sample/vehicles.csv\")\n",
    "depots_df = pd.read_csv(\"../data/sample/depots.csv\")\n",
    "distances = pd.read_csv(\"../data/sample/distances.csv\", index_col=0)"
   ]
  },
  {
   "cell_type": "code",
   "execution_count": 18,
   "id": "1aa1fdd8",
   "metadata": {},
   "outputs": [],
   "source": [
    "dist_raw = pd.read_csv(\"../data/sample/distances.csv\")        # or your distances file\n",
    "dist_mat = pd.DataFrame()\n",
    "if set([\"from_id\",\"to_id\",\"distance_km\"]).issubset(set(map(str.lower, dist_raw.columns))):\n",
    "    # pivot will be handled inside the function, but we can call to_distance_matrix if needed.\n",
    "    dist_mat = dist_raw  # pass long form — function will pivot\n",
    "else:\n",
    "    dist_mat = pd.read_csv(\"../data/sample/distances_square.csv\", index_col=0)\n",
    "\n",
    "orders = pd.read_csv(\"../data/sample/orders.csv\")            # use sample for speed\n",
    "vehicles = pd.read_csv(\"../data/sample/vehicles.csv\")\n",
    "depots = pd.read_csv(\"../data/sample/depots.csv\")"
   ]
  },
  {
   "cell_type": "code",
   "execution_count": 19,
   "id": "2a93324e",
   "metadata": {},
   "outputs": [],
   "source": [
    "orders[\"customer_id\"] = orders[\"customer_id\"].astype(str)\n",
    "vehicles[\"vehicle_id\"] = vehicles[\"vehicle_id\"].astype(str)\n",
    "depots[\"depot_id\"] = depots[\"depot_id\"].astype(str)"
   ]
  },
  {
   "cell_type": "code",
   "execution_count": 23,
   "id": "de0bb1b1",
   "metadata": {},
   "outputs": [
    {
     "name": "stdout",
     "output_type": "stream",
     "text": [
      "⚠️ Skipping 88 customers not in distance matrix: ['C19', 'C74', 'C64', 'C30', 'C86']...\n"
     ]
    },
    {
     "ename": "ValueError",
     "evalue": "not enough values to unpack (expected 4, got 3)",
     "output_type": "error",
     "traceback": [
      "\u001b[31m---------------------------------------------------------------------------\u001b[39m",
      "\u001b[31mValueError\u001b[39m                                Traceback (most recent call last)",
      "\u001b[36mCell\u001b[39m\u001b[36m \u001b[39m\u001b[32mIn[23]\u001b[39m\u001b[32m, line 1\u001b[39m\n\u001b[32m----> \u001b[39m\u001b[32m1\u001b[39m sol, tot_dist, tot_em, unserved = nearest_neighbor_solution(\n\u001b[32m      2\u001b[39m     dist_mat,\n\u001b[32m      3\u001b[39m     orders,\n\u001b[32m      4\u001b[39m     vehicles,\n\u001b[32m      5\u001b[39m     depots\n\u001b[32m      6\u001b[39m )\n",
      "\u001b[31mValueError\u001b[39m: not enough values to unpack (expected 4, got 3)"
     ]
    }
   ],
   "source": [
    "sol, tot_dist, tot_em, unserved = nearest_neighbor_solution(\n",
    "    dist_mat,\n",
    "    orders,\n",
    "    vehicles,\n",
    "    depots\n",
    ")\n",
    "\n",
    "\n",
    "\n"
   ]
  },
  {
   "cell_type": "code",
   "execution_count": 24,
   "id": "b84d4786",
   "metadata": {},
   "outputs": [
    {
     "ename": "NameError",
     "evalue": "name 'tot_dist' is not defined",
     "output_type": "error",
     "traceback": [
      "\u001b[31m---------------------------------------------------------------------------\u001b[39m",
      "\u001b[31mNameError\u001b[39m                                 Traceback (most recent call last)",
      "\u001b[36mCell\u001b[39m\u001b[36m \u001b[39m\u001b[32mIn[24]\u001b[39m\u001b[32m, line 1\u001b[39m\n\u001b[32m----> \u001b[39m\u001b[32m1\u001b[39m \u001b[38;5;28mprint\u001b[39m(\u001b[33m\"\u001b[39m\u001b[33mTotal distance:\u001b[39m\u001b[33m\"\u001b[39m, \u001b[43mtot_dist\u001b[49m)\n\u001b[32m      2\u001b[39m \u001b[38;5;28mprint\u001b[39m(\u001b[33m\"\u001b[39m\u001b[33mTotal emissions (kg):\u001b[39m\u001b[33m\"\u001b[39m, tot_em)\n\u001b[32m      3\u001b[39m \u001b[38;5;28mprint\u001b[39m(\u001b[33m\"\u001b[39m\u001b[33mUnserved count:\u001b[39m\u001b[33m\"\u001b[39m, \u001b[38;5;28mlen\u001b[39m(unserved))\n",
      "\u001b[31mNameError\u001b[39m: name 'tot_dist' is not defined"
     ]
    }
   ],
   "source": [
    "print(\"Total distance:\", tot_dist)\n",
    "print(\"Total emissions (kg):\", tot_em)\n",
    "print(\"Unserved count:\", len(unserved))\n",
    "print(\"Example vehicle route:\", sol[0])"
   ]
  },
  {
   "cell_type": "code",
   "execution_count": null,
   "id": "45071f33",
   "metadata": {},
   "outputs": [],
   "source": []
  },
  {
   "cell_type": "code",
   "execution_count": null,
   "id": "15fad63b",
   "metadata": {},
   "outputs": [],
   "source": [
    "NEW ONE"
   ]
  },
  {
   "cell_type": "code",
   "execution_count": 29,
   "id": "e3e38829",
   "metadata": {},
   "outputs": [
    {
     "name": "stdout",
     "output_type": "stream",
     "text": [
      "Adding to sys.path: /workspaces/FMCG---Route-Optimization-for-Sustainability/fmcg-route-optimization/src\n",
      "optimization_model loaded from: /workspaces/FMCG---Route-Optimization-for-Sustainability/fmcg-route-optimization/src/optimization_model.py\n",
      "signature: (distance_input: pandas.core.frame.DataFrame, orders_df: pandas.core.frame.DataFrame, vehicles_df: pandas.core.frame.DataFrame, depots_df: pandas.core.frame.DataFrame, demand_col: str = 'demand_units', vehicle_capacity_col: str = 'capacity_units', emission_col: str = 'co2_factor_kg_per_km', max_customers_per_vehicle: int | None = None) -> Tuple[List[Dict[str, Any]], float, float, List[str]]\n"
     ]
    }
   ],
   "source": [
    "# 1) ensure src/ is importable\n",
    "import sys, os\n",
    "src_dir = os.path.abspath(\"../src\")   # adjust if your notebook is not in notebooks/\n",
    "print(\"Adding to sys.path:\", src_dir)\n",
    "if src_dir not in sys.path:\n",
    "    sys.path.insert(0, src_dir)\n",
    "\n",
    "# 2) import and confirm which file Python sees\n",
    "import importlib\n",
    "import optimization_model\n",
    "importlib.reload(optimization_model)   # force reload\n",
    "print(\"optimization_model loaded from:\", optimization_model.__file__)\n",
    "\n",
    "# 3) inspect the function signature to confirm correct version\n",
    "import inspect\n",
    "print(\"signature:\", inspect.signature(optimization_model.nearest_neighbor_solution_v2))\n"
   ]
  },
  {
   "cell_type": "code",
   "execution_count": 37,
   "id": "7e2edb34",
   "metadata": {},
   "outputs": [
    {
     "name": "stdout",
     "output_type": "stream",
     "text": [
      "sol: [{'vehicle_id': 'V0', 'route': ['C1', 'C2', 'D0'], 'load': 30.0, 'assigned_count': 2}]\n",
      "tot_dist: 22.0\n",
      "tot_em: 19.8\n",
      "unserved: []\n",
      "--------------------------------------------------------------------------------------------\n",
      "=== Route Optimization Report ===\n",
      "Total Distance Traveled: 22.00 km\n",
      "Total Emissions: 19.80 kg CO2\n",
      "Unserved Customers: 0 -> None\n",
      "\n",
      "Vehicle Routes:\n",
      "  Vehicle V0 | Load: 30.0 units | Customers served: 2 | Route: C1 -> C2 -> D0\n"
     ]
    }
   ],
   "source": [
    "from optimization_model import nearest_neighbor_solution_v2\n",
    "import pandas as pd\n",
    "\n",
    "# tiny sample distance matrix (must match ids used by orders/depot)\n",
    "dist = pd.DataFrame([[0.0,5.0,10.0],[5.0,0.0,7.0],[10.0,7.0,0.0]],\n",
    "                    index=[\"D0\",\"C1\",\"C2\"], columns=[\"D0\",\"C1\",\"C2\"])\n",
    "orders = pd.DataFrame({\"customer_id\":[\"C1\",\"C2\"], \"demand_units\":[10,20]})\n",
    "vehicles = pd.DataFrame({\"vehicle_id\":[\"V0\"], \"capacity_units\":[100], \"co2_factor_kg_per_km\":[0.9]})\n",
    "depots = pd.DataFrame({\"depot_id\":[\"D0\"]})\n",
    "\n",
    "sol, tot_dist, tot_em, unserved = nearest_neighbor_solution_v2(dist, orders, vehicles, depots)\n",
    "print(\"sol:\", sol)\n",
    "print(\"tot_dist:\", tot_dist)\n",
    "print(\"tot_em:\", tot_em)\n",
    "print(\"unserved:\", unserved)\n",
    "print(\"--------------------------------------------------------------------------------------------\")\n",
    "print(\"=== Route Optimization Report ===\")\n",
    "print(f\"Total Distance Traveled: {tot_dist:.2f} km\")\n",
    "print(f\"Total Emissions: {tot_em:.2f} kg CO2\")\n",
    "print(f\"Unserved Customers: {len(unserved)} -> {unserved if unserved else 'None'}\")\n",
    "print(\"\\nVehicle Routes:\")\n",
    "for route in sol:\n",
    "    path = \" -> \".join(route[\"route\"]) if route[\"route\"] else \"No customers assigned\"\n",
    "    print(\n",
    "        f\"  Vehicle {route['vehicle_id']} | \"\n",
    "        f\"Load: {route['load']} units | \"\n",
    "        f\"Customers served: {route['assigned_count']} | \"\n",
    "        f\"Route: {path}\"\n",
    "    )"
   ]
  },
  {
   "cell_type": "code",
   "execution_count": 35,
   "id": "a6757f0c",
   "metadata": {},
   "outputs": [
    {
     "name": "stdout",
     "output_type": "stream",
     "text": [
      "        to_id  distance_km    time_min\n",
      "from_id                               \n",
      "D0         D1     8.556738   17.113475\n",
      "D0         C1    48.037610   96.075221\n",
      "D0         C2    58.955078  117.910157\n",
      "D0         C3    87.365981  174.731962\n",
      "D0         C4    74.749098  149.498196\n",
      "  order_id customer_id  demand_units temp_zone  priority  service_minutes  \\\n",
      "0       O0         C39           367   ambient         2               21   \n",
      "1       O1          C8           275   chilled         1                8   \n",
      "2       O2         C13           321   chilled         2                6   \n",
      "3       O3         C33            99   ambient         2                7   \n",
      "4       O4         C50           109   ambient         3                7   \n",
      "\n",
      "   tw_start_min  tw_end_min  \n",
      "0          1121        1255  \n",
      "1           684         935  \n",
      "2           435         674  \n",
      "3           963        1033  \n",
      "4          1087        1290  \n",
      "  vehicle_id  capacity_units  reefer_supported  reefer_power_kw  fixed_cost  \\\n",
      "0         V0            2797                 1              3.0          80   \n",
      "1         V1            3219                 0              0.0          80   \n",
      "2         V2            4676                 1              3.0          80   \n",
      "3         V3            2588                 0              0.0          80   \n",
      "4         V4            4401                 1              3.0          80   \n",
      "\n",
      "   per_km_cost  co2_factor_kg_per_km  \n",
      "0          7.5                  1.00  \n",
      "1          7.5                  0.60  \n",
      "2          7.5                  0.93  \n",
      "3          7.5                  1.13  \n",
      "4          7.5                  0.75  \n",
      "  depot_id     name        lat        lon open_time close_time\n",
      "0       D0  Depot 0  19.148591  73.073761     06:00      22:00\n",
      "1       D1  Depot 1  19.216639  73.035715     06:00      22:00\n"
     ]
    }
   ],
   "source": [
    "import pandas as pd\n",
    "\n",
    "# Paths to your sample files\n",
    "sample_dir = \"../data/sample\"  # adjust path if needed\n",
    "distances_file = f\"{sample_dir}/distances.csv\"\n",
    "emissions_file = f\"{sample_dir}/emissions.csv\"\n",
    "orders_file = f\"{sample_dir}/orders.csv\"\n",
    "vehicles_file = f\"{sample_dir}/vehicles.csv\"\n",
    "depots_file = f\"{sample_dir}/depots.csv\"\n",
    "\n",
    "# Load sample datasets\n",
    "dist_mat = pd.read_csv(distances_file, index_col=0)  # Distance matrix with depot/customer IDs as index/columns\n",
    "emissions_mat = pd.read_csv(emissions_file, index_col=0)\n",
    "orders = pd.read_csv(orders_file)\n",
    "vehicles = pd.read_csv(vehicles_file)\n",
    "depots = pd.read_csv(depots_file)\n",
    "\n",
    "# Optional: show a quick preview\n",
    "print(dist_mat.head())\n",
    "print(orders.head())\n",
    "print(vehicles.head())\n",
    "print(depots.head())\n"
   ]
  }
 ],
 "metadata": {
  "kernelspec": {
   "display_name": "Python 3",
   "language": "python",
   "name": "python3"
  },
  "language_info": {
   "codemirror_mode": {
    "name": "ipython",
    "version": 3
   },
   "file_extension": ".py",
   "mimetype": "text/x-python",
   "name": "python",
   "nbconvert_exporter": "python",
   "pygments_lexer": "ipython3",
   "version": "3.12.1"
  }
 },
 "nbformat": 4,
 "nbformat_minor": 5
}
