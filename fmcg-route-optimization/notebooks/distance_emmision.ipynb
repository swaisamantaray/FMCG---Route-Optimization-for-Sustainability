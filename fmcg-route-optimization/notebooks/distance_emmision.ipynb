{
 "cells": [
  {
   "cell_type": "markdown",
   "id": "e1ab5be5",
   "metadata": {},
   "source": [
    "imports"
   ]
  },
  {
   "cell_type": "code",
   "execution_count": 1,
   "id": "7814ba82",
   "metadata": {},
   "outputs": [
    {
     "name": "stdout",
     "output_type": "stream",
     "text": [
      "Current working dir: /workspaces/FMCG---Route-Optimization-for-Sustainability/fmcg-route-optimization/notebooks\n",
      "\n",
      "Project folder contents:\n",
      "['02_eda.ipynb', 'distance_emmision.ipynb']\n",
      "\n",
      "Inside fmcg-route-optimization/:\n"
     ]
    },
    {
     "ename": "FileNotFoundError",
     "evalue": "[Errno 2] No such file or directory: 'fmcg-route-optimization'",
     "output_type": "error",
     "traceback": [
      "\u001b[31m---------------------------------------------------------------------------\u001b[39m",
      "\u001b[31mFileNotFoundError\u001b[39m                         Traceback (most recent call last)",
      "\u001b[36mCell\u001b[39m\u001b[36m \u001b[39m\u001b[32mIn[1]\u001b[39m\u001b[32m, line 8\u001b[39m\n\u001b[32m      5\u001b[39m \u001b[38;5;28mprint\u001b[39m(os.listdir())\n\u001b[32m      7\u001b[39m \u001b[38;5;28mprint\u001b[39m(\u001b[33m\"\u001b[39m\u001b[38;5;130;01m\\n\u001b[39;00m\u001b[33mInside fmcg-route-optimization/:\u001b[39m\u001b[33m\"\u001b[39m)\n\u001b[32m----> \u001b[39m\u001b[32m8\u001b[39m \u001b[38;5;28mprint\u001b[39m(\u001b[43mos\u001b[49m\u001b[43m.\u001b[49m\u001b[43mlistdir\u001b[49m\u001b[43m(\u001b[49m\u001b[33;43m\"\u001b[39;49m\u001b[33;43mfmcg-route-optimization\u001b[39;49m\u001b[33;43m\"\u001b[39;49m\u001b[43m)\u001b[49m)\n\u001b[32m     10\u001b[39m \u001b[38;5;28mprint\u001b[39m(\u001b[33m\"\u001b[39m\u001b[38;5;130;01m\\n\u001b[39;00m\u001b[33mInside src/:\u001b[39m\u001b[33m\"\u001b[39m)\n\u001b[32m     11\u001b[39m \u001b[38;5;28mprint\u001b[39m(os.listdir(\u001b[33m\"\u001b[39m\u001b[33mfmcg-route-optimization/src\u001b[39m\u001b[33m\"\u001b[39m))\n",
      "\u001b[31mFileNotFoundError\u001b[39m: [Errno 2] No such file or directory: 'fmcg-route-optimization'"
     ]
    }
   ],
   "source": [
    "import os\n",
    "\n",
    "print(\"Current working dir:\", os.getcwd())\n",
    "print(\"\\nProject folder contents:\")\n",
    "print(os.listdir())\n",
    "\n",
    "print(\"\\nInside fmcg-route-optimization/:\")\n",
    "print(os.listdir(\"fmcg-route-optimization\"))\n",
    "\n",
    "print(\"\\nInside src/:\")\n",
    "print(os.listdir(\"fmcg-route-optimization/src\"))\n"
   ]
  },
  {
   "cell_type": "code",
   "execution_count": 12,
   "id": "84aa506f",
   "metadata": {},
   "outputs": [
    {
     "name": "stdout",
     "output_type": "stream",
     "text": [
      "['emission_calculator.py', 'distance_calculator.py', 'data_generation.py']\n"
     ]
    }
   ],
   "source": [
    "import os\n",
    "print(os.listdir(\"../src\"))"
   ]
  },
  {
   "cell_type": "code",
   "execution_count": 18,
   "id": "65c4e7b7",
   "metadata": {},
   "outputs": [
    {
     "name": "stdout",
     "output_type": "stream",
     "text": [
      "Current sys.path: ['/workspaces/FMCG---Route-Optimization-for-Sustainability/fmcg-route-optimization/src', '/workspaces/FMCG---Route-Optimization-for-Sustainability/fmcg-route-optimization/src', '/workspaces/FMCG---Route-Optimization-for-Sustainability/fmcg-route-optimization/src']\n"
     ]
    }
   ],
   "source": [
    "import sys, os\n",
    "\n",
    "# Adjust this path to point exactly to your fmcg-route-optimization/src\n",
    "project_root = \"/workspaces/FMCG---Route-Optimization-for-Sustainability/fmcg-route-optimization\"\n",
    "src_path = os.path.join(project_root, \"src\")\n",
    "\n",
    "# Add to sys.path if not already added\n",
    "if src_path not in sys.path:\n",
    "    sys.path.append(src_path)\n",
    "\n",
    "print(\"Current sys.path:\", sys.path[-3:])  # check last 3 entries"
   ]
  },
  {
   "cell_type": "code",
   "execution_count": 2,
   "id": "b0d65265",
   "metadata": {},
   "outputs": [],
   "source": [
    "import pandas as pd\n",
    "import sys, os\n",
    "sys.path.append(os.path.abspath(\"../src\"))\n",
    "\n",
    "from distance_calculator import build_distance_matrix\n",
    "from emission_calculator import compute_emissions\n"
   ]
  },
  {
   "cell_type": "markdown",
   "id": "6bbfd836",
   "metadata": {},
   "source": [
    "load data"
   ]
  },
  {
   "cell_type": "code",
   "execution_count": 7,
   "id": "2968a030",
   "metadata": {},
   "outputs": [],
   "source": [
    "depots = pd.read_csv(\"/workspaces/FMCG---Route-Optimization-for-Sustainability/fmcg-route-optimization/data/sample/depots.csv\")\n",
    "customers = pd.read_csv(\"/workspaces/FMCG---Route-Optimization-for-Sustainability/fmcg-route-optimization/data/sample/customers.csv\")\n",
    "vehicles = pd.read_csv(\"/workspaces/FMCG---Route-Optimization-for-Sustainability/fmcg-route-optimization/data/sample/vehicles.csv\")"
   ]
  },
  {
   "cell_type": "markdown",
   "id": "5b7b8f26",
   "metadata": {},
   "source": [
    "Merge depots + customers into nodes"
   ]
  },
  {
   "cell_type": "code",
   "execution_count": 8,
   "id": "5448de09",
   "metadata": {},
   "outputs": [],
   "source": [
    "nodes = pd.concat([\n",
    "    depots.rename(columns={\"depot_id\":\"id\"})[[\"id\",\"lat\",\"lon\"]],\n",
    "    customers.rename(columns={\"customer_id\":\"id\"})[[\"id\",\"lat\",\"lon\"]]\n",
    "], ignore_index=True)"
   ]
  },
  {
   "cell_type": "markdown",
   "id": "4ebd6522",
   "metadata": {},
   "source": [
    "Distance Matrix"
   ]
  },
  {
   "cell_type": "code",
   "execution_count": 9,
   "id": "66ba55db",
   "metadata": {},
   "outputs": [
    {
     "name": "stdout",
     "output_type": "stream",
     "text": [
      "  from_id to_id  distance_km    time_min\n",
      "0      D0    D1     8.556738   17.113475\n",
      "1      D0    C1    48.037610   96.075221\n",
      "2      D0    C2    58.955078  117.910157\n",
      "3      D0    C3    87.365981  174.731962\n",
      "4      D0    C4    74.749098  149.498196\n"
     ]
    }
   ],
   "source": [
    "distances = build_distance_matrix(nodes)\n",
    "print(distances.head())"
   ]
  },
  {
   "cell_type": "markdown",
   "id": "3080149a",
   "metadata": {},
   "source": [
    "Emissions for one vehicle"
   ]
  },
  {
   "cell_type": "code",
   "execution_count": 10,
   "id": "b2127b94",
   "metadata": {},
   "outputs": [
    {
     "name": "stdout",
     "output_type": "stream",
     "text": [
      "  from_id to_id  distance_km    time_min vehicle_id  co2_emission_kg\n",
      "0      D0    D1     8.556738   17.113475         V0         8.556738\n",
      "1      D0    C1    48.037610   96.075221         V0        48.037610\n",
      "2      D0    C2    58.955078  117.910157         V0        58.955078\n",
      "3      D0    C3    87.365981  174.731962         V0        87.365981\n",
      "4      D0    C4    74.749098  149.498196         V0        74.749098\n"
     ]
    }
   ],
   "source": [
    "sample_vehicle = vehicles.iloc[0][\"vehicle_id\"]\n",
    "emissions = compute_emissions(distances, vehicles, sample_vehicle)\n",
    "print(emissions.head())"
   ]
  },
  {
   "cell_type": "markdown",
   "id": "1346eecd",
   "metadata": {},
   "source": [
    "Save for later optimization step"
   ]
  },
  {
   "cell_type": "code",
   "execution_count": 12,
   "id": "35161cbe",
   "metadata": {},
   "outputs": [],
   "source": [
    "distances.to_csv(\"/workspaces/FMCG---Route-Optimization-for-Sustainability/fmcg-route-optimization/data/sample/distances.csv\", index=False)\n",
    "emissions.to_csv(\"/workspaces/FMCG---Route-Optimization-for-Sustainability/fmcg-route-optimization/data/sample/emissions.csv\", index=False)"
   ]
  }
 ],
 "metadata": {
  "kernelspec": {
   "display_name": "Python 3",
   "language": "python",
   "name": "python3"
  },
  "language_info": {
   "codemirror_mode": {
    "name": "ipython",
    "version": 3
   },
   "file_extension": ".py",
   "mimetype": "text/x-python",
   "name": "python",
   "nbconvert_exporter": "python",
   "pygments_lexer": "ipython3",
   "version": "3.12.1"
  }
 },
 "nbformat": 4,
 "nbformat_minor": 5
}
